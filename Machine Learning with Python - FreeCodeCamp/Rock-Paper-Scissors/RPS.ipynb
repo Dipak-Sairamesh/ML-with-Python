{
 "cells": [
  {
   "cell_type": "code",
   "execution_count": 258,
   "metadata": {},
   "outputs": [],
   "source": [
    "from RPS_game import play, mrugesh, abbey, quincy, kris, human, random_player\n",
    "from RPS import player\n",
    "from unittest import main\n",
    "\n",
    "steps = {}\n",
    "\n",
    "def join_moves(moves):\n",
    "    \"\"\"Concatenate a list of moves into a string\"\"\"\n",
    "    return \"\".join(moves)\n",
    "\n",
    "def player(prev_play, opponent_history=[]):\n",
    "    if prev_play != \"\":\n",
    "        opponent_history.append(prev_play)\n",
    "\n",
    "    pattern_length = 3\n",
    "    guess = \"R\"  # default guess is Rock\n",
    "\n",
    "    if len(opponent_history) > pattern_length:\n",
    "        # Look at the last n moves the opponent made\n",
    "        recent_moves = join_moves(opponent_history[-pattern_length:])\n",
    "\n",
    "        # Increment the count for this pattern of recent moves\n",
    "        steps[join_moves(opponent_history[-(pattern_length+1):])] = steps.get(join_moves(opponent_history[-(pattern_length+1):]), 0) + 1\n",
    "\n",
    "        # Consider all possible next moves and pick the one the opponent is most likely to play based on history\n",
    "        potential_next_moves = [recent_moves + \"R\", recent_moves + \"P\", recent_moves + \"S\"]\n",
    "        for pattern in potential_next_moves:\n",
    "            steps[pattern] = steps.get(pattern, 0)\n",
    "\n",
    "        predicted_opponent_move = max(potential_next_moves, key=lambda key: steps[key])[-1]\n",
    "\n",
    "        # Play the move that beats the predicted opponent move\n",
    "        counter_moves = {\"R\": \"P\", \"P\": \"S\", \"S\": \"R\"}\n",
    "        guess = counter_moves[predicted_opponent_move]\n",
    "\n",
    "    return guess"
   ]
  },
  {
   "cell_type": "code",
   "execution_count": 261,
   "metadata": {},
   "outputs": [
    {
     "name": "stdout",
     "output_type": "stream",
     "text": [
      "Final results: {'p1': 998, 'p2': 0, 'tie': 2}\n",
      "Player 1 win rate: 100.0%\n",
      "Final results: {'p1': 681, 'p2': 136, 'tie': 183}\n",
      "Player 1 win rate: 83.35373317013463%\n",
      "Final results: {'p1': 744, 'p2': 224, 'tie': 32}\n",
      "Player 1 win rate: 76.85950413223141%\n",
      "Final results: {'p1': 750, 'p2': 250, 'tie': 0}\n",
      "Player 1 win rate: 75.0%\n"
     ]
    },
    {
     "data": {
      "text/plain": [
       "75.0"
      ]
     },
     "execution_count": 261,
     "metadata": {},
     "output_type": "execute_result"
    }
   ],
   "source": [
    "play(player, quincy, 1000)\n",
    "play(player, mrugesh, 1000)\n",
    "play(player, abbey, 1000)\n",
    "play(player, kris, 1000)"
   ]
  }
 ],
 "metadata": {
  "kernelspec": {
   "display_name": "Python 3",
   "language": "python",
   "name": "python3"
  },
  "language_info": {
   "codemirror_mode": {
    "name": "ipython",
    "version": 3
   },
   "file_extension": ".py",
   "mimetype": "text/x-python",
   "name": "python",
   "nbconvert_exporter": "python",
   "pygments_lexer": "ipython3",
   "version": "3.9.6"
  }
 },
 "nbformat": 4,
 "nbformat_minor": 2
}
