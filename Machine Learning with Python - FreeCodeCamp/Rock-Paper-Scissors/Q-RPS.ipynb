{
 "cells": [
  {
   "cell_type": "code",
   "execution_count": 271,
   "metadata": {},
   "outputs": [],
   "source": [
    "import random\n",
    "from RPS_game import play, mrugesh, abbey, quincy, kris, human, random_player\n",
    "from RPS import player\n",
    "from unittest import main\n",
    "# Constants\n",
    "actions = ['R', 'P', 'S']\n",
    "states = ['R', 'P', 'S', None]  # None for no previous play\n",
    "q_table = {state: {action: 0 for action in actions} for state in states}\n",
    "learning_rate = 0.1\n",
    "discount_factor = 0.9\n",
    "epsilon = 0.2\n",
    "\n",
    "def choose_action(state):\n",
    "    if random.random() < epsilon:\n",
    "        return random.choice(actions)\n",
    "    else:\n",
    "        return max(q_table[state], key=q_table[state].get)\n",
    "\n",
    "def update_q_table(prev_state, action, reward, state):\n",
    "    if state not in q_table:\n",
    "        state = None\n",
    "    old_value = q_table[prev_state][action]\n",
    "    future_optimal_value = max(q_table[state].values())\n",
    "    new_value = (1 - learning_rate) * old_value + learning_rate * (reward + discount_factor * future_optimal_value)\n",
    "    q_table[prev_state][action] = new_value\n",
    "\n",
    "def get_reward(player_action, opponent_action):\n",
    "    if player_action == opponent_action:\n",
    "        return 0  # Tie\n",
    "    elif (player_action == 'R' and opponent_action == 'S') or \\\n",
    "         (player_action == 'P' and opponent_action == 'R') or \\\n",
    "         (player_action == 'S' and opponent_action == 'P'):\n",
    "        return 1  # Win\n",
    "    else:\n",
    "        return -1  # Loss\n",
    "\n",
    "def player(prev_play, opponent_history=[]):\n",
    "    if not prev_play:\n",
    "        state = None\n",
    "    else:\n",
    "        state = prev_play\n",
    "    opponent_history.append(prev_play)\n",
    "    \n",
    "    action = choose_action(state)\n",
    "    if len(opponent_history) > 1:\n",
    "        reward = get_reward(action, opponent_history[-1])\n",
    "        update_q_table(state, action, reward, opponent_history[-1])\n",
    "    \n",
    "    return action"
   ]
  },
  {
   "cell_type": "code",
   "execution_count": 278,
   "metadata": {},
   "outputs": [
    {
     "name": "stdout",
     "output_type": "stream",
     "text": [
      "Final results: {'p1': 373, 'p2': 76, 'tie': 551}\n",
      "Player 1 win rate: 83.07349665924276%\n",
      "Final results: {'p1': 735, 'p2': 198, 'tie': 67}\n",
      "Player 1 win rate: 78.77813504823152%\n",
      "Final results: {'p1': 342, 'p2': 340, 'tie': 318}\n",
      "Player 1 win rate: 50.146627565982406%\n",
      "Final results: {'p1': 315, 'p2': 308, 'tie': 377}\n",
      "Player 1 win rate: 50.56179775280899%\n"
     ]
    },
    {
     "data": {
      "text/plain": [
       "50.56179775280899"
      ]
     },
     "execution_count": 278,
     "metadata": {},
     "output_type": "execute_result"
    }
   ],
   "source": [
    "play(player, quincy, 1000)\n",
    "play(player, mrugesh, 1000)\n",
    "play(player, abbey, 1000)\n",
    "play(player, kris, 1000)"
   ]
  }
 ],
 "metadata": {
  "kernelspec": {
   "display_name": "Python 3",
   "language": "python",
   "name": "python3"
  },
  "language_info": {
   "codemirror_mode": {
    "name": "ipython",
    "version": 3
   },
   "file_extension": ".py",
   "mimetype": "text/x-python",
   "name": "python",
   "nbconvert_exporter": "python",
   "pygments_lexer": "ipython3",
   "version": "3.9.6"
  }
 },
 "nbformat": 4,
 "nbformat_minor": 2
}
